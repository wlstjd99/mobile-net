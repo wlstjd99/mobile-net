{
  "nbformat": 4,
  "nbformat_minor": 0,
  "metadata": {
    "colab": {
      "name": "and,nand,or,xor.ipynb",
      "provenance": [],
      "authorship_tag": "ABX9TyPYQ4bKlhodDGfWqUtwresV",
      "include_colab_link": true
    },
    "kernelspec": {
      "name": "python3",
      "display_name": "Python 3"
    },
    "language_info": {
      "name": "python"
    }
  },
  "cells": [
    {
      "cell_type": "markdown",
      "metadata": {
        "id": "view-in-github",
        "colab_type": "text"
      },
      "source": [
        "<a href=\"https://colab.research.google.com/github/wlstjd99/mobile-net/blob/main/and%2Cnand%2Cor%2Cxor.ipynb\" target=\"_parent\"><img src=\"https://colab.research.google.com/assets/colab-badge.svg\" alt=\"Open In Colab\"/></a>"
      ]
    },
    {
      "cell_type": "code",
      "execution_count": null,
      "metadata": {
        "id": "VwfaLKOqB4OU"
      },
      "outputs": [],
      "source": [
        "def AND(x1, x2):\n",
        "  w1, w2, theta = 0.5, 0.5, 0.7\n",
        "  temp=x1*w1+x2*w2\n",
        "\n",
        "  if temp>theta:\n",
        "    return 1\n",
        "  else:\n",
        "      return 0\n"
      ]
    },
    {
      "cell_type": "code",
      "source": [
        "print(AND(0,0))\n",
        "print(AND(1,0))\n",
        "print(AND(0,1))\n",
        "print(AND(1,1))"
      ],
      "metadata": {
        "colab": {
          "base_uri": "https://localhost:8080/"
        },
        "id": "t7WgHDlMCcEP",
        "outputId": "c1f4a111-cb67-4d9a-db49-42bbfbb16172"
      },
      "execution_count": null,
      "outputs": [
        {
          "output_type": "stream",
          "name": "stdout",
          "text": [
            "0\n",
            "0\n",
            "0\n",
            "1\n"
          ]
        }
      ]
    },
    {
      "cell_type": "code",
      "source": [
        "def OR2(x1, x2):\n",
        "  w1, w2, theta = -1, 2, -2\n",
        "  temp=x1*w1+x2*w2\n",
        "\n",
        "  if temp>theta:\n",
        "    return 1\n",
        "  else:\n",
        "      return 0\n"
      ],
      "metadata": {
        "id": "m0-ylWeUDJuo"
      },
      "execution_count": null,
      "outputs": []
    },
    {
      "cell_type": "code",
      "source": [
        "print(OR2(0,0))\n",
        "print(OR2(1,0))\n",
        "print(OR2(0,1))\n",
        "print(OR2(1,1))"
      ],
      "metadata": {
        "colab": {
          "base_uri": "https://localhost:8080/"
        },
        "id": "3WMKB_tWDjCr",
        "outputId": "e8b5e3f4-c2f8-4e0b-b0f7-04c8a30afa2f"
      },
      "execution_count": null,
      "outputs": [
        {
          "output_type": "stream",
          "name": "stdout",
          "text": [
            "1\n",
            "1\n",
            "1\n",
            "1\n"
          ]
        }
      ]
    },
    {
      "cell_type": "code",
      "source": [
        "def NAND1(x1, x2):\n",
        "  w1, w2, theta = -1, 2, 3\n",
        "  temp=x1*w1+x2*w2\n",
        "\n",
        "  if temp<theta:\n",
        "      return 1\n",
        "  else:\n",
        "      return 0"
      ],
      "metadata": {
        "id": "MLLFy_YfD1zs"
      },
      "execution_count": null,
      "outputs": []
    },
    {
      "cell_type": "code",
      "source": [
        "print(NAND1(0,0))\n",
        "print(NAND1(1,0))\n",
        "print(NAND1(0,1))\n",
        "print(NAND1(1,1))"
      ],
      "metadata": {
        "colab": {
          "base_uri": "https://localhost:8080/"
        },
        "id": "ZJ4H5CShER7s",
        "outputId": "57c297ec-eae3-494f-ef17-10c97f0957e4"
      },
      "execution_count": null,
      "outputs": [
        {
          "output_type": "stream",
          "name": "stdout",
          "text": [
            "1\n",
            "1\n",
            "1\n",
            "1\n"
          ]
        }
      ]
    },
    {
      "cell_type": "code",
      "source": [
        "def XOR1(x1, x2):\n",
        "  y1=OR2(x1, x2)\n",
        "  y2=NAND1(x1, x2)\n",
        "  y3=AND(y1, y2)\n",
        "  return y3"
      ],
      "metadata": {
        "id": "YCzEKK9gEcnQ"
      },
      "execution_count": null,
      "outputs": []
    },
    {
      "cell_type": "code",
      "source": [
        "print(XOR1(0,0))\n",
        "print(XOR1(1,0))\n",
        "print(XOR1(0,1))\n",
        "print(XOR1(1,1))"
      ],
      "metadata": {
        "colab": {
          "base_uri": "https://localhost:8080/"
        },
        "id": "Ek35UtEyJBNy",
        "outputId": "a80ea0d0-35b9-44e0-9a4e-bc14102c87c3"
      },
      "execution_count": null,
      "outputs": [
        {
          "output_type": "stream",
          "name": "stdout",
          "text": [
            "1\n",
            "1\n",
            "1\n",
            "1\n"
          ]
        }
      ]
    },
    {
      "cell_type": "code",
      "source": [
        "def NAND3(x1, x2):\n",
        "  w1, w2, theta = 2, 1, 2.5\n",
        "  temp=x1*w1+x2*w2\n",
        "\n",
        "  if temp<theta:\n",
        "      return 1\n",
        "  else:\n",
        "      return 0"
      ],
      "metadata": {
        "id": "pBVUJhED0xWJ"
      },
      "execution_count": null,
      "outputs": []
    },
    {
      "cell_type": "code",
      "source": [
        "print(NAND3(0,0))\n",
        "print(NAND3(1,0))\n",
        "print(NAND3(0,1))\n",
        "print(NAND3(1,1))"
      ],
      "metadata": {
        "colab": {
          "base_uri": "https://localhost:8080/"
        },
        "id": "1vRPb5khG-wl",
        "outputId": "c49602e3-b396-4b41-d08e-5802f45e96b1"
      },
      "execution_count": null,
      "outputs": [
        {
          "output_type": "stream",
          "name": "stdout",
          "text": [
            "1\n",
            "1\n",
            "1\n",
            "0\n"
          ]
        }
      ]
    },
    {
      "cell_type": "code",
      "source": [
        "def OR4(x1, x2):\n",
        "  w1, w2, theta = 2, 1, -1\n",
        "  temp=x1*w1+x2*w2\n",
        "\n",
        "  if temp>theta:\n",
        "    return 1\n",
        "  else:\n",
        "      return 0\n"
      ],
      "metadata": {
        "id": "k1lLwT6LHDh1"
      },
      "execution_count": null,
      "outputs": []
    },
    {
      "cell_type": "code",
      "source": [
        "print(OR4(0,0))\n",
        "print(OR4(1,0))\n",
        "print(OR4(0,1))\n",
        "print(OR4(1,1))"
      ],
      "metadata": {
        "colab": {
          "base_uri": "https://localhost:8080/"
        },
        "id": "Bn7lFBdrHHUD",
        "outputId": "f603b7eb-db42-4d3a-e09c-ed38bf614ad0"
      },
      "execution_count": null,
      "outputs": [
        {
          "output_type": "stream",
          "name": "stdout",
          "text": [
            "1\n",
            "1\n",
            "1\n",
            "1\n"
          ]
        }
      ]
    },
    {
      "cell_type": "code",
      "source": [
        "def XOR2(x1, x2):\n",
        "  y1=OR4(x1, x2)\n",
        "  y2=NAND3(x1, x2)\n",
        "  y3=AND(y1, y2)\n",
        "  return y3"
      ],
      "metadata": {
        "id": "9gE6gzGxHOYC"
      },
      "execution_count": null,
      "outputs": []
    },
    {
      "cell_type": "code",
      "source": [
        "print(XOR2(0,0))\n",
        "print(XOR2(1,0))\n",
        "print(XOR2(0,1))\n",
        "print(XOR2(1,1))"
      ],
      "metadata": {
        "colab": {
          "base_uri": "https://localhost:8080/"
        },
        "id": "17fkKDJIHWqB",
        "outputId": "6f97d758-344d-41a2-da33-a37e3230f22d"
      },
      "execution_count": null,
      "outputs": [
        {
          "output_type": "stream",
          "name": "stdout",
          "text": [
            "1\n",
            "1\n",
            "1\n",
            "0\n"
          ]
        }
      ]
    },
    {
      "cell_type": "code",
      "source": [
        "def AND2(x1, x2):\n",
        "  w1, w2, theta = 0.5, 0.5, 0.7\n",
        "  temp=x1*w1+x2*w2\n",
        "\n",
        "  if temp>theta:\n",
        "    return 1\n",
        "  else:\n",
        "      return 0\n"
      ],
      "metadata": {
        "id": "epBXu7kKKGsK"
      },
      "execution_count": null,
      "outputs": []
    },
    {
      "cell_type": "code",
      "source": [
        "def AND2(x1,x2):\n",
        "  y3=XOR1(x1,x2)\n",
        "  y6=XOR2(x1,x2)\n",
        "  y7=AND(y3,y6)\n",
        "  return y7"
      ],
      "metadata": {
        "id": "vwcgoCIKHa6x"
      },
      "execution_count": null,
      "outputs": []
    },
    {
      "cell_type": "code",
      "source": [
        "print(AND2(0,0))\n",
        "print(AND2(1,0))\n",
        "print(AND2(0,1))\n",
        "print(AND2(1,1))"
      ],
      "metadata": {
        "colab": {
          "base_uri": "https://localhost:8080/"
        },
        "id": "VPtEiAOQH4ks",
        "outputId": "91ec1eb0-dd57-456e-99b1-f7fc8d3ab220"
      },
      "execution_count": null,
      "outputs": [
        {
          "output_type": "stream",
          "name": "stdout",
          "text": [
            "1\n",
            "1\n",
            "1\n",
            "0\n"
          ]
        }
      ]
    },
    {
      "cell_type": "code",
      "source": [
        ""
      ],
      "metadata": {
        "id": "zWwSVx9xKi6I"
      },
      "execution_count": null,
      "outputs": []
    }
  ]
}