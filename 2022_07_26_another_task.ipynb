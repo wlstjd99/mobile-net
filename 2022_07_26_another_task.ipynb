{
  "nbformat": 4,
  "nbformat_minor": 0,
  "metadata": {
    "colab": {
      "name": "2022-07-26_another_task",
      "provenance": [],
      "include_colab_link": true
    },
    "kernelspec": {
      "name": "python3",
      "display_name": "Python 3"
    },
    "language_info": {
      "name": "python"
    }
  },
  "cells": [
    {
      "cell_type": "markdown",
      "metadata": {
        "id": "view-in-github",
        "colab_type": "text"
      },
      "source": [
        "<a href=\"https://colab.research.google.com/github/wlstjd99/mobile-net/blob/main/2022_07_26_another_task.ipynb\" target=\"_parent\"><img src=\"https://colab.research.google.com/assets/colab-badge.svg\" alt=\"Open In Colab\"/></a>"
      ]
    },
    {
      "cell_type": "code",
      "execution_count": null,
      "metadata": {
        "id": "u85i4redDkRT"
      },
      "outputs": [],
      "source": [
        "import numpy as np"
      ]
    },
    {
      "cell_type": "code",
      "source": [
        " w1 = np.array([-1, 1000]) # 1번그래프\n",
        " b1 = -1000\n",
        " w2 = np.array([0, 1]) # 2번그래프\n",
        " b2 = 0\n",
        " w3 = np.array([1000, 1]) # 3번그래프\n",
        " b3 = -1001\n",
        " w4 = np.array([1000, 1]) # 4번그래프\n",
        " b4 = 0.1"
      ],
      "metadata": {
        "id": "Z9FDgr0sNYLu"
      },
      "execution_count": null,
      "outputs": []
    },
    {
      "cell_type": "code",
      "source": [
        "def NAND3 (x1, x2) :\n",
        "  x = np.array([x1,x2])\n",
        "  temp = np.sum(w3*x)+b3\n",
        "\n",
        "  if temp<0 :\n",
        "    return 1\n",
        "  else :\n",
        "    return 0"
      ],
      "metadata": {
        "id": "X-evvjvlDqOo"
      },
      "execution_count": null,
      "outputs": []
    },
    {
      "cell_type": "code",
      "source": [
        "print(NAND3(0,0))\n",
        "print(NAND3(1,0))\n",
        "print(NAND3(0,1))\n",
        "print(NAND3(1,1))"
      ],
      "metadata": {
        "colab": {
          "base_uri": "https://localhost:8080/"
        },
        "id": "APO20wCsEIOG",
        "outputId": "0dcff3a0-5919-4590-a04f-de3fcd55e277"
      },
      "execution_count": null,
      "outputs": [
        {
          "output_type": "stream",
          "name": "stdout",
          "text": [
            "1\n",
            "1\n",
            "1\n",
            "0\n"
          ]
        }
      ]
    },
    {
      "cell_type": "code",
      "source": [
        "def OR4 (x1, x2) :\n",
        "  x = np.array([x1,x2])\n",
        "  temp = np.sum(w4*x)+b4\n",
        "\n",
        "  if temp>0 :\n",
        "    return 1\n",
        "  else :\n",
        "    return 0"
      ],
      "metadata": {
        "id": "W8HpFDcGEL7T"
      },
      "execution_count": null,
      "outputs": []
    },
    {
      "cell_type": "code",
      "source": [
        "print(OR4(0,0))\n",
        "print(OR4(1,0))\n",
        "print(OR4(0,1))\n",
        "print(OR4(1,1))"
      ],
      "metadata": {
        "colab": {
          "base_uri": "https://localhost:8080/"
        },
        "id": "rGl-RzmhEbE1",
        "outputId": "9669bca1-d7e3-49ea-fd8e-c9898ef1b162"
      },
      "execution_count": null,
      "outputs": [
        {
          "output_type": "stream",
          "name": "stdout",
          "text": [
            "1\n",
            "1\n",
            "1\n",
            "1\n"
          ]
        }
      ]
    },
    {
      "cell_type": "code",
      "source": [
        "def AND (x1,x2) :\n",
        "  x = np.array([x1,x2])\n",
        "  w = np.array([0.5, 0.5])\n",
        "  b = -0.7\n",
        "  temp = np.sum(w*x)+b\n",
        "  if temp>0 :\n",
        "    return 1\n",
        "  else :\n",
        "    return 0"
      ],
      "metadata": {
        "id": "otSPJ4FSGTQV"
      },
      "execution_count": null,
      "outputs": []
    },
    {
      "cell_type": "code",
      "source": [
        "print(AND(0,0))\n",
        "print(AND(1,0))\n",
        "print(AND(0,1))\n",
        "print(AND(1,1))"
      ],
      "metadata": {
        "colab": {
          "base_uri": "https://localhost:8080/"
        },
        "id": "cg84vyVWH8EE",
        "outputId": "19114cc0-a658-42a0-aca6-b4921f9e350f"
      },
      "execution_count": null,
      "outputs": [
        {
          "output_type": "stream",
          "name": "stdout",
          "text": [
            "0\n",
            "0\n",
            "0\n",
            "1\n"
          ]
        }
      ]
    },
    {
      "cell_type": "code",
      "source": [
        "def XOR(x1, x2):\n",
        "  y1=NAND3(x1, x2)\n",
        "  y2=OR4(x1, x2)\n",
        "  y3=AND(y1, y2)\n",
        "  return y3"
      ],
      "metadata": {
        "id": "HTdk8C7WEgMx"
      },
      "execution_count": null,
      "outputs": []
    },
    {
      "cell_type": "code",
      "source": [
        "print(XOR(0,0))\n",
        "print(XOR(1,0))\n",
        "print(XOR(0,1))\n",
        "print(XOR(1,1))"
      ],
      "metadata": {
        "colab": {
          "base_uri": "https://localhost:8080/"
        },
        "id": "H-5Cga9PFPMm",
        "outputId": "d087fde5-a478-4fcb-bb1d-e4bbda2d8ce6"
      },
      "execution_count": null,
      "outputs": [
        {
          "output_type": "stream",
          "name": "stdout",
          "text": [
            "1\n",
            "1\n",
            "1\n",
            "0\n"
          ]
        }
      ]
    },
    {
      "cell_type": "code",
      "source": [
        ""
      ],
      "metadata": {
        "id": "FRMOMgNpGPoK"
      },
      "execution_count": null,
      "outputs": []
    },
    {
      "cell_type": "code",
      "source": [
        "def NAND1 (x1, x2) :\n",
        "  x = np.array([x1,x2])\n",
        "  temp = np.sum(w1*x)+b1\n",
        "\n",
        "  if temp<=0 :\n",
        "    return 1\n",
        "  else :\n",
        "    return 0"
      ],
      "metadata": {
        "id": "ReVsjpv0Iqxd"
      },
      "execution_count": null,
      "outputs": []
    },
    {
      "cell_type": "code",
      "source": [
        "print(NAND1(0,0))\n",
        "print(NAND1(1,0))\n",
        "print(NAND1(0,1))\n",
        "print(NAND1(1,1))"
      ],
      "metadata": {
        "colab": {
          "base_uri": "https://localhost:8080/"
        },
        "outputId": "48046bde-1bc6-43f7-ffc9-3e8ca2e95f49",
        "id": "XEW2GGNkIqxe"
      },
      "execution_count": null,
      "outputs": [
        {
          "output_type": "stream",
          "name": "stdout",
          "text": [
            "1\n",
            "1\n",
            "1\n",
            "1\n"
          ]
        }
      ]
    },
    {
      "cell_type": "code",
      "source": [
        "def OR2 (x1, x2) :\n",
        "  x = np.array([x1,x2])\n",
        "  temp = np.sum(w2*x)+b2\n",
        "\n",
        "  if temp>=0 :\n",
        "    return 1\n",
        "  else :\n",
        "    return 0"
      ],
      "metadata": {
        "id": "Yls3bN8ZIqxe"
      },
      "execution_count": null,
      "outputs": []
    },
    {
      "cell_type": "code",
      "source": [
        "print(OR2(0,0))\n",
        "print(OR2(1,0))\n",
        "print(OR2(0,1))\n",
        "print(OR2(1,1))"
      ],
      "metadata": {
        "colab": {
          "base_uri": "https://localhost:8080/"
        },
        "outputId": "db0363c6-9437-4887-8d75-17a64dd5828a",
        "id": "2y-yHsolIqxf"
      },
      "execution_count": null,
      "outputs": [
        {
          "output_type": "stream",
          "name": "stdout",
          "text": [
            "1\n",
            "1\n",
            "1\n",
            "1\n"
          ]
        }
      ]
    },
    {
      "cell_type": "code",
      "source": [
        "def XOR1(x1, x2):\n",
        "  y4=NAND1(x1, x2)\n",
        "  y5=OR2(x1, x2)\n",
        "  y6=AND(y4, y5)\n",
        "  return y6"
      ],
      "metadata": {
        "id": "dxfT8nrsIqxf"
      },
      "execution_count": null,
      "outputs": []
    },
    {
      "cell_type": "code",
      "source": [
        "print(XOR1(0,0))\n",
        "print(XOR1(1,0))\n",
        "print(XOR1(0,1))\n",
        "print(XOR1(1,1))"
      ],
      "metadata": {
        "colab": {
          "base_uri": "https://localhost:8080/"
        },
        "outputId": "8225e645-fe6b-4125-cd44-1865d5b701ea",
        "id": "D3QuipaeIqxf"
      },
      "execution_count": null,
      "outputs": [
        {
          "output_type": "stream",
          "name": "stdout",
          "text": [
            "1\n",
            "1\n",
            "1\n",
            "1\n"
          ]
        }
      ]
    },
    {
      "cell_type": "code",
      "source": [
        "def AND2(x1, x2):\n",
        "    y3=XOR(x1, x2)\n",
        "    y6=XOR1(x1, x2)\n",
        "    y7=AND(y3, y6)\n",
        "    return y7"
      ],
      "metadata": {
        "id": "vOsQzvzoXrqj"
      },
      "execution_count": null,
      "outputs": []
    },
    {
      "cell_type": "code",
      "source": [
        "print(AND2(0,0))\n",
        "print(AND2(1,0))\n",
        "print(AND2(0,1))\n",
        "print(AND2(1,1))"
      ],
      "metadata": {
        "colab": {
          "base_uri": "https://localhost:8080/"
        },
        "id": "F8FZDHu5b6D7",
        "outputId": "7c59fcad-c123-4a0b-ed68-57cae13e9400"
      },
      "execution_count": null,
      "outputs": [
        {
          "output_type": "stream",
          "name": "stdout",
          "text": [
            "1\n",
            "1\n",
            "1\n",
            "0\n"
          ]
        }
      ]
    },
    {
      "cell_type": "code",
      "source": [
        "print(AND2(0.5,1.5))\n",
        "print(AND2(-0.5,-0.5))\n",
        "print(AND2(1.5,0.5))\n",
        "print(AND2(0.5,-0.5))"
      ],
      "metadata": {
        "colab": {
          "base_uri": "https://localhost:8080/"
        },
        "id": "uonfykwGcEm-",
        "outputId": "89634d80-31c2-4d04-9ebf-505b8ffd9803"
      },
      "execution_count": null,
      "outputs": [
        {
          "output_type": "stream",
          "name": "stdout",
          "text": [
            "0\n",
            "0\n",
            "0\n",
            "0\n"
          ]
        }
      ]
    },
    {
      "cell_type": "code",
      "source": [
        ""
      ],
      "metadata": {
        "id": "8gBVqK2TcpSR"
      },
      "execution_count": null,
      "outputs": []
    }
  ]
}