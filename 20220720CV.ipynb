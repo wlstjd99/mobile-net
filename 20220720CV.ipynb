{
  "nbformat": 4,
  "nbformat_minor": 0,
  "metadata": {
    "accelerator": "GPU",
    "colab": {
      "name": "20220720CV.ipynb",
      "private_outputs": true,
      "provenance": [],
      "collapsed_sections": [],
      "include_colab_link": true
    },
    "kernelspec": {
      "display_name": "Python 3",
      "language": "python",
      "name": "python3"
    }
  },
  "cells": [
    {
      "cell_type": "markdown",
      "metadata": {
        "id": "view-in-github",
        "colab_type": "text"
      },
      "source": [
        "<a href=\"https://colab.research.google.com/github/wlstjd99/mobile-net/blob/main/20220720CV.ipynb\" target=\"_parent\"><img src=\"https://colab.research.google.com/assets/colab-badge.svg\" alt=\"Open In Colab\"/></a>"
      ]
    },
    {
      "cell_type": "markdown",
      "metadata": {
        "id": "N6ZDpd9XzFeN"
      },
      "source": [
        "##### Copyright 2018 The TensorFlow Hub Authors.\n",
        "\n",
        "Licensed under the Apache License, Version 2.0 (the \"License\");\n",
        "# ◉ 구글 코랩(colab)이란?\n",
        "\n",
        " \n",
        "\n",
        "1.   Colaboratory를 줄여서 'Colab'이라한다.\n",
        "2.   브라우저에서 **파이썬(Python)**을 작성하고 실행할 수 있다. \n",
        "3.   구글 **지메일 계정**으로 로그인을 한다.\n",
        "4.   코랩 코드 링크로 바로 접속한 경우 **파일>드라이브에 사본저장** 을 통해 나의 구글 드라이브로 이동시킨다.\n",
        "5. 모든 코드는 '숨김'으로 설정하였다. \n"
      ]
    },
    {
      "cell_type": "markdown",
      "metadata": {
        "id": "v4XGxDrCkeip"
      },
      "source": [
        "![준비하기.png](data:image/png;base64,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)\n"
      ]
    },
    {
      "cell_type": "markdown",
      "metadata": {
        "id": "BYQpGu0ZnmZs"
      },
      "source": [
        "* **파일>노트열기>업로드에서 해당파일 열기**\n",
        "* **파일>드라이브에 사본 저장** 하기\n",
        "* **실행방법**\n",
        "* **1) 코드 왼쪽의 ![image.png](data:image/png;base64,iVBORw0KGgoAAAANSUhEUgAAADkAAAA5CAYAAACMGIOFAAAC/klEQVRoBe2ZPZIiMQxG52zkEEMOpyCGHGI4BcSQE3MLDkDorbdVqvK6Wm7/yB5gCbrc9NiSnvVZdvf8PJ9P9+nXz6cDwveF/JQsfzP5zeQbVeUucr3dbu58Prvj8fjPdb1eHX9rrZgmkPf73e33e7dardxkMkm66MsYxlpDm0KSrRwwbQKwgS0rWBPIy+XiFotFUsY0sKHn2MR2LWwV5OPxcOv12hwuBMYHvkphiyFZO7PZrDmgAJPV0vVaBHk6nboCCiiTWiLfbEgAxelvtbmgWZC9JapNIhnNkW4yJAu/5xrUAOU5azS1GCVD9qiiApDaElNKxU2CZA2kOu7dL2V9JkG22OitJoPYxrI5CllbTXe7ndtsNk2VQIwx0FHI2iweDoe/ARDIdDptAstZtxiSMl0rK4EkCOwtl8tqm0MxxbaUaCaR2pDBnGc+JKCU/RbyJVYtm1FIi9emEFICsZZvTLJRyJyMaX01yBbylQkMWxWSzxJa4DnPY5AEYylf7VOKClm7dchEjEHKrFvIVzsYqJAEJ4HWtKmQwNZWX83XS0HWyvetILfbbZGK3gISudZsW9mQVm8emmMpONJSeGrfV7MLT88tpFSeYUHM3kKY4dBIye9YJmvlGcYjqghbtbrS0eIwrUFayNOHJNYQTn5HIVsd0K3k6UMWH9CRk2+o5N7PpLU8/XiwLZkL22gm6VwrWYG0lqcPGJMqDKOQBOcbzL1HRi3k6cdBjGH2/N+jkHSez+dVoH5A1vfE5gMN3SdBWh0MrAGxpx0AfNgkSAZ8/MdlIHm5fSXZEov5vwkApUy3+qyYI2ViiG0ZvlS5T5arDHyF9ZmyDiXeIkgG4eQ3MorPXMBiSAYil55rFF85EiVGubLlKgNpWfg9qi4+UouMH5/cV0GKESTUIqvYLJGnxCWtCaQY43hVe9alymJj7KgmPlNaU0hxyNrhzJoDTF/GlK478T3UNoEMHfFZAtnxRuJfPNM+WYQ2an53gawJ0GLsF9JiFl/Bxn+RyT9yxVniTW4R6gAAAABJRU5ErkJggg==) 아이콘을 클릭한다.**\n",
        "* **2) 런타임>다시시작 및 모두 실행**\n"
      ]
    },
    {
      "cell_type": "code",
      "metadata": {
        "id": "D9IwDpOtpIHW"
      },
      "source": [
        "#@markdown#\n",
        "#@title ➊ 코드를 실행하여 필요한 패키지 설치\n",
        "#@실행하기\n",
        "#@title Imports and function definitions\n",
        "\n",
        "# For running inference on the TF-Hub module.\n",
        "import tensorflow as tf\n",
        "\n",
        "import tensorflow_hub as hub\n",
        "\n",
        "# For downloading the image.\n",
        "import matplotlib.pyplot as plt\n",
        "import tempfile\n",
        "from six.moves.urllib.request import urlopen\n",
        "from six import BytesIO\n",
        "\n",
        "# For drawing onto the image.\n",
        "import numpy as np\n",
        "from PIL import Image\n",
        "from PIL import ImageColor\n",
        "from PIL import ImageDraw\n",
        "from PIL import ImageFont\n",
        "from PIL import ImageOps\n",
        "\n",
        "# For measuring the inference time.\n",
        "import time\n",
        "\n",
        "# Print Tensorflow version\n",
        "print(tf.__version__)\n",
        "\n",
        "# Check available GPU devices.\n",
        "print(\"The following GPU devices are available: %s\" % tf.test.gpu_device_name())\n",
        "\n",
        "def display_image(image):\n",
        "  fig = plt.figure(figsize=(20, 15))\n",
        "  plt.grid(False)\n",
        "  plt.imshow(image)\n",
        "\n",
        "\n",
        "def download_and_resize_image(url, new_width=256, new_height=256,\n",
        "                              display=False):\n",
        "  _, filename = tempfile.mkstemp(suffix=\".jpg\")\n",
        "  response = urlopen(url)\n",
        "  image_data = response.read()\n",
        "  image_data = BytesIO(image_data)\n",
        "  pil_image = Image.open(image_data)\n",
        "  pil_image = ImageOps.fit(pil_image, (new_width, new_height), Image.ANTIALIAS)\n",
        "  pil_image_rgb = pil_image.convert(\"RGB\")\n",
        "  pil_image_rgb.save(filename, format=\"JPEG\", quality=90)\n",
        "  print(\"Image downloaded to %s.\" % filename)\n",
        "  if display:\n",
        "    display_image(pil_image)\n",
        "  return filename\n",
        "\n",
        "\n",
        "def draw_bounding_box_on_image(image,\n",
        "                               ymin,\n",
        "                               xmin,\n",
        "                               ymax,\n",
        "                               xmax,\n",
        "                               color,\n",
        "                               font,\n",
        "                               thickness=4,\n",
        "                               display_str_list=()):\n",
        "  \"\"\"Adds a bounding box to an image.\"\"\"\n",
        "  draw = ImageDraw.Draw(image)\n",
        "  im_width, im_height = image.size\n",
        "  (left, right, top, bottom) = (xmin * im_width, xmax * im_width,\n",
        "                                ymin * im_height, ymax * im_height)\n",
        "  draw.line([(left, top), (left, bottom), (right, bottom), (right, top),\n",
        "             (left, top)],\n",
        "            width=thickness,\n",
        "            fill=color)\n",
        "\n",
        "  # If the total height of the display strings added to the top of the bounding\n",
        "  # box exceeds the top of the image, stack the strings below the bounding box\n",
        "  # instead of above.\n",
        "  display_str_heights = [font.getsize(ds)[1] for ds in display_str_list]\n",
        "  # Each display_str has a top and bottom margin of 0.05x.\n",
        "  total_display_str_height = (1 + 2 * 0.05) * sum(display_str_heights)\n",
        "\n",
        "  if top > total_display_str_height:\n",
        "    text_bottom = top\n",
        "  else:\n",
        "    text_bottom = top + total_display_str_height\n",
        "  # Reverse list and print from bottom to top.\n",
        "  for display_str in display_str_list[::-1]:\n",
        "    text_width, text_height = font.getsize(display_str)\n",
        "    margin = np.ceil(0.05 * text_height)\n",
        "    draw.rectangle([(left, text_bottom - text_height - 2 * margin),\n",
        "                    (left + text_width, text_bottom)],\n",
        "                   fill=color)\n",
        "    draw.text((left + margin, text_bottom - text_height - margin),\n",
        "              display_str,\n",
        "              fill=\"black\",\n",
        "              font=font)\n",
        "    text_bottom -= text_height - 2 * margin\n",
        "\n",
        "\n",
        "def draw_boxes(image, boxes, class_names, scores, max_boxes=10, min_score=0.1):\n",
        "  \"\"\"Overlay labeled boxes on an image with formatted scores and label names.\"\"\"\n",
        "  colors = list(ImageColor.colormap.values())\n",
        "\n",
        "  try:\n",
        "    font = ImageFont.truetype(\"/usr/share/fonts/truetype/liberation/LiberationSansNarrow-Regular.ttf\",\n",
        "                              25)\n",
        "  except IOError:\n",
        "    print(\"Font not found, using default font.\")\n",
        "    font = ImageFont.load_default()\n",
        "\n",
        "  for i in range(min(boxes.shape[0], max_boxes)):\n",
        "    if scores[i] >= min_score:\n",
        "      ymin, xmin, ymax, xmax = tuple(boxes[i])\n",
        "      display_str = \"{}: {}%\".format(class_names[i].decode(\"ascii\"),\n",
        "                                     int(100 * scores[i]))\n",
        "      color = colors[hash(class_names[i]) % len(colors)]\n",
        "      image_pil = Image.fromarray(np.uint8(image)).convert(\"RGB\")\n",
        "      draw_bounding_box_on_image(\n",
        "          image_pil,\n",
        "          ymin,\n",
        "          xmin,\n",
        "          ymax,\n",
        "          xmax,\n",
        "          color,\n",
        "          font,\n",
        "          display_str_list=[display_str])\n",
        "      np.copyto(image, np.array(image_pil))\n",
        "  return image"
      ],
      "execution_count": null,
      "outputs": []
    },
    {
      "cell_type": "markdown",
      "metadata": {
        "id": "D19UCu9Q2-_8"
      },
      "source": [
        "## **따라하기**\n",
        "\n"
      ]
    },
    {
      "cell_type": "code",
      "metadata": {
        "id": "S5WJ1HbhdosV"
      },
      "source": [
        "#@markdown ###➋ 코드를 실행하여 이미지 불러오기\n",
        "image_url =\"https://farm4.staticflickr.com/3230/2590723214_33021a2195_z.jpg\"\n",
        "downloaded_image_path = download_and_resize_image(image_url, 1280, 856, True)"
      ],
      "execution_count": null,
      "outputs": []
    },
    {
      "cell_type": "markdown",
      "metadata": {
        "id": "t-VdfLbC1w51"
      },
      "source": [
        "###➌ object detection의 모델 사용(둘중 하나 선택하고 코드를 실행하여 결과 확인하기)\n",
        "* **FasterRCNN+InceptionResNet V2**: high accuracy,\n",
        "* **ssd+mobilenet V2**: small and fast."
      ]
    },
    {
      "cell_type": "code",
      "metadata": {
        "id": "uazJ5ASc2_QE"
      },
      "source": [
        "#@markdown \n",
        "module_handle = \"https://tfhub.dev/google/faster_rcnn/openimages_v4/inception_resnet_v2/1\" #@param [\"https://tfhub.dev/google/openimages_v4/ssd/mobilenet_v2/1\", \"https://tfhub.dev/google/faster_rcnn/openimages_v4/inception_resnet_v2/1\"]\n",
        "\n",
        "detector = hub.load(module_handle).signatures['default']\n",
        "\n",
        "def load_img(path):\n",
        "  img = tf.io.read_file(path)\n",
        "  img = tf.image.decode_jpeg(img, channels=3)\n",
        "  return img\n",
        "def run_detector(detector, path):\n",
        "  img = load_img(path)\n",
        "\n",
        "  converted_img  = tf.image.convert_image_dtype(img, tf.float32)[tf.newaxis, ...]\n",
        "  start_time = time.time()\n",
        "  result = detector(converted_img)\n",
        "  end_time = time.time()\n",
        "\n",
        "  result = {key:value.numpy() for key,value in result.items()}\n",
        "\n",
        "  print(\"Found %d objects.\" % len(result[\"detection_scores\"]))\n",
        "  print(\"Inference time: \", end_time-start_time)\n",
        "\n",
        "  image_with_boxes = draw_boxes(\n",
        "      img.numpy(), result[\"detection_boxes\"],\n",
        "      result[\"detection_class_entities\"], result[\"detection_scores\"])\n",
        "\n",
        "  display_image(image_with_boxes)\n",
        "run_detector(detector, downloaded_image_path)"
      ],
      "execution_count": null,
      "outputs": []
    },
    {
      "cell_type": "markdown",
      "metadata": {
        "id": "WUUY3nfRX7VF"
      },
      "source": [
        "###➍ 3개의 이미지 중 하나를 선택하고 코드를 실행하여 결과 확인하기\n",
        "\n"
      ]
    },
    {
      "cell_type": "code",
      "metadata": {
        "id": "sO5qX7FBhios"
      },
      "source": [
        "#@markdown \n",
        "image_urls = \"https://upload.wikimedia.org/wikipedia/commons/thumb/0/0d/Biblioteca_Maim%C3%B3nides%2C_Campus_Universitario_de_Rabanales_007.jpg/1024px-Biblioteca_Maim%C3%B3nides%2C_Campus_Universitario_de_Rabanales_007.jpg\" #@param [\"https://upload.wikimedia.org/wikipedia/commons/1/1b/The_Coleoptera_of_the_British_islands_%28Plate_125%29_%288592917784%29.jpg\",   \"https://upload.wikimedia.org/wikipedia/commons/thumb/0/0d/Biblioteca_Maim%C3%B3nides%2C_Campus_Universitario_de_Rabanales_007.jpg/1024px-Biblioteca_Maim%C3%B3nides%2C_Campus_Universitario_de_Rabanales_007.jpg\",  \"https://upload.wikimedia.org/wikipedia/commons/0/09/The_smaller_British_birds_%288053836633%29.jpg\"]\n",
        "def detect_img(image_url):\n",
        "  start_time = time.time()\n",
        "  image_path = download_and_resize_image(image_url, 480, 640)\n",
        "  run_detector(detector, image_path)\n",
        "  end_time = time.time()\n",
        "  print(\"Inference time:\",end_time-start_time)\n",
        " \n",
        "detect_img(image_urls)"
      ],
      "execution_count": null,
      "outputs": []
    },
    {
      "cell_type": "markdown",
      "metadata": {
        "id": "9Ym6_fp1bOtn"
      },
      "source": [
        "![스스로하기.png](data:image/png;base64,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)"
      ]
    },
    {
      "cell_type": "code",
      "metadata": {
        "id": "omNTnNT3aBdq"
      },
      "source": [
        "#@markdown  ➊ 코드를 실행하고 이미지 파일을 선택하세요\n",
        "from google.colab import files\n",
        "filename = list(files.upload().keys())[0]"
      ],
      "execution_count": null,
      "outputs": []
    },
    {
      "cell_type": "code",
      "metadata": {
        "id": "nOcWF7LlZ1kk"
      },
      "source": [
        "#@markdown ➋ 코드를 실행하고 결과를 확인하세요\n",
        "\n",
        "\n",
        "def detect_img(filename):\n",
        "  start_time = time.time()\n",
        "  image_path = filename\n",
        "  run_detector(detector, image_path)\n",
        "  end_time = time.time()\n",
        "  print(\"Inference time:\",end_time-start_time)\n",
        "\n",
        "detect_img(filename)"
      ],
      "execution_count": null,
      "outputs": []
    },
    {
      "cell_type": "code",
      "metadata": {
        "id": "GNnefO-iaddn"
      },
      "source": [
        ""
      ],
      "execution_count": null,
      "outputs": []
    }
  ]
}